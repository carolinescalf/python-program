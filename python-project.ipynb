{
 "cells": [
  {
   "cell_type": "code",
   "execution_count": 3,
   "metadata": {},
   "outputs": [
    {
     "name": "stdin",
     "output_type": "stream",
     "text": [
      "What is your name?  Rob\n",
      "Hi Rob! What year were you born? (Choose between 1990 and 2015)  2002\n"
     ]
    }
   ],
   "source": [
    "ask_name = input(\"What is your name? \")\n",
    "dob = \"Hi \" + ask_name + \"! \" + \"What year were you born? (Choose between 1990 and 2015) \"\n",
    "ask_dob = input(dob)\n",
    "\n",
    "if ask_dob == 1990 or ask_dob == 2002 or ask_dob == 2014:\n",
    "    print(\"Your zodiac sign is the horse!\")\n",
    "    print(\"Horses are animated, active, and energetic. Your lucky numbers are 2, 3, and 7.\")\n",
    "elif ask_dob == 1991 or ask_dob == 2003 or ask_dob == 2015:\n",
    "    print(\"Your zodiac sign is the goat!\")\n",
    "    print(\"Goats are calm, gentle, and sympathetic. Your lucky numbers are 2 and 7.\")\n",
    "    \n",
    "#break#\n",
    "\n",
    "    print(\"Monkeys are sharp, smart, and curious. Your lucky numbers are 4 and 9.\")\n",
    "    print(\"Roosters are observant, hardworking, and courageous. Your lucky numbers are 5, 7, and 8.\")\n",
    "    print(\"Dogs are lovely, honest, and prudent. Your lucky numbers are 3, 4, and 9.\")\n",
    "    print(\"Pigs are compassionate, generous, and diligent. Your lucky numbers are 2, 5, and 8.\")\n",
    "    print(\"Rats are quick-witted, resourceful, versatile, and kind. Your lucky numbers are 2 and 3.\")\n",
    "    print(\"Oxen are diligent, dependable, strong, and determined. Your lucky numbers are 1 and 4.\")\n",
    "    print(\"Tigers are quick-witted, resourceful, versatile, and kind. Your lucky numbers are 1, 3, and 4.\")\n",
    "    print(\"Rabbits are quiet, elegant, kind, and responsible. Your lucky numbers are 3, 4, and 6.\")\n",
    "    print(\"Dragons are confident, intelligent, and enthusiastic. Your lucky numbers are 1, 6, and 7.\")\n",
    "    print(\"Snakes are enigmatic, intelligent, and wise. Your lucky numbers are 2, 8, and 9.\")\n"
   ]
  },
  {
   "cell_type": "code",
   "execution_count": null,
   "metadata": {},
   "outputs": [],
   "source": []
  }
 ],
 "metadata": {
  "kernelspec": {
   "display_name": "Python 3",
   "language": "python",
   "name": "python3"
  },
  "language_info": {
   "codemirror_mode": {
    "name": "ipython",
    "version": 3
   },
   "file_extension": ".py",
   "mimetype": "text/x-python",
   "name": "python",
   "nbconvert_exporter": "python",
   "pygments_lexer": "ipython3",
   "version": "3.8.3"
  }
 },
 "nbformat": 4,
 "nbformat_minor": 4
}
