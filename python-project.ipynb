{
 "cells": [
  {
   "cell_type": "code",
   "execution_count": null,
   "metadata": {},
   "outputs": [],
   "source": []
  }
 ],
 "metadata": {
  "kernelspec": {
   "display_name": "Python 3",
   "language": "python",
   "name": "python3"
  },
  "language_info": {
   "codemirror_mode": {
    "name": "ipython",
    "version": 3
   },
   "file_extension": ".py",
   "mimetype": "text/x-python",
   "name": "python",
   "nbconvert_exporter": "python",
   "pygments_lexer": "ipython3",
   "version": "3.8.3"
  }
 },
 "nbformat": 4,
 "nbformat_minor": 4
}
ask_name = input("What is your name? ")
dob = "Hi " + ask_name + "! " + "What year were you born? (Choose between 1990 and 2015) "
ask_dob = input(dob)

if ask_dob == 1990 or ask_dob == 2002 or ask_dob == 2015:
    print("Your zodiac sign is the horse!")
