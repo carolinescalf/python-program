{
 "cells": [
  {
   "cell_type": "code",
   "execution_count": 2,
   "metadata": {},
   "outputs": [
    {
     "name": "stdout",
     "output_type": "stream",
     "text": [
      "Welcome to the Chinese Zodiac Teller 3000!\n"
     ]
    },
    {
     "name": "stdin",
     "output_type": "stream",
     "text": [
      "What is your name?  caroline\n"
     ]
    },
    {
     "name": "stdout",
     "output_type": "stream",
     "text": [
      "Hi caroline! \n"
     ]
    },
    {
     "name": "stdin",
     "output_type": "stream",
     "text": [
      "What year were you born? (Choose between 1990 and 2015):  241\n"
     ]
    },
    {
     "name": "stdout",
     "output_type": "stream",
     "text": [
      "Sorry, that is not a valid year. Please select a year between 1990 and 2015.\n"
     ]
    },
    {
     "name": "stdin",
     "output_type": "stream",
     "text": [
      "What year were you born? (Choose between 1990 and 2015):  20000\n"
     ]
    },
    {
     "name": "stdout",
     "output_type": "stream",
     "text": [
      "Sorry, that is not a valid year. Please select a year between 1990 and 2015.\n"
     ]
    },
    {
     "name": "stdin",
     "output_type": "stream",
     "text": [
      "What year were you born? (Choose between 1990 and 2015):  2000\n"
     ]
    },
    {
     "name": "stdout",
     "output_type": "stream",
     "text": [
      "Your zodiac sign is the dragon!\n",
      "Dragons are confident, intelligent, and enthusiastic. Your lucky numbers are 1, 6, and 7.\n"
     ]
    }
   ],
   "source": [
    "def zodiac():\n",
    "    print(\"Welcome to the Chinese Zodiac Teller 3000!\")\n",
    "    ask_name = input(\"What is your name? \")\n",
    "    print(\"Hi \" + ask_name + \"! \")\n",
    "\n",
    "    x = 0\n",
    "    while x == 0:\n",
    "        ask_dob = int(input(\"What year were you born? (Choose between 1990 and 2015): \"))\n",
    "\n",
    "        if ask_dob == 1990 or ask_dob == 2002 or ask_dob == 2014:\n",
    "            print(\"Your zodiac sign is the horse!\")\n",
    "            print(\"Horses are animated, active, and energetic. Your lucky numbers are 2, 3, and 7.\")\n",
    "            x+= 1\n",
    "\n",
    "        elif ask_dob == 1991 or ask_dob == 2003 or ask_dob == 2015:\n",
    "            print(\"Your zodiac sign is the goat!\")\n",
    "            print(\"Goats are calm, gentle, and sympathetic. Your lucky numbers are 2 and 7.\")\n",
    "            x+= 1\n",
    "\n",
    "        elif ask_dob == 1992 or ask_dob == 2004:\n",
    "            print(\"Your zodiac sign is the monkey!\")\n",
    "            print(\"Monkeys are sharp, smart, and curious. Your lucky numbers are 4 and 9.\")\n",
    "            x+= 1\n",
    "\n",
    "        elif ask_dob == 1993 or ask_dob == 2005:\n",
    "            print(\"Your zodiac sign is the rooster!\")\n",
    "            print(\"Roosters are observant, hardworking, and courageous. Your lucky numbers are 5, 7, and 8.\")\n",
    "            x+= 1\n",
    "\n",
    "        elif ask_dob == 1994 or ask_dob == 2006:\n",
    "            print(\"Your zodiac sign is the dog!\")\n",
    "            print(\"Dogs are lovely, honest, and prudent. Your lucky numbers are 3, 4, and 9.\")\n",
    "            x+= 1\n",
    "\n",
    "        elif ask_dob == 1995 or ask_dob == 2007:\n",
    "            print(\"Your zodiac sign is the pig!\")\n",
    "            print(\"Pigs are compassionate, generous, and diligent. Your lucky numbers are 2, 5, and 8.\")\n",
    "            x+= 1\n",
    "\n",
    "        elif ask_dob == 1996 or ask_dob == 2008:\n",
    "            print(\"Your zodiac sign is the rat!\")\n",
    "            print(\"Rats are quick-witted, resourceful, versatile, and kind. Your lucky numbers are 2 and 3.\")\n",
    "            x+= 1\n",
    "\n",
    "        elif ask_dob == 1997 or ask_dob == 2009:\n",
    "            print(\"Your zodiac sign is the ox!\")\n",
    "            print(\"Oxen are diligent, dependable, strong, and determined. Your lucky numbers are 1 and 4.\")\n",
    "            x+= 1\n",
    "\n",
    "        elif ask_dob == 1998 or ask_dob == 2010:\n",
    "            print(\"Your zodiac sign is the tiger!\")\n",
    "            print(\"Tigers are quick-witted, resourceful, versatile, and kind. Your lucky numbers are 1, 3, and 4.\")\n",
    "            x+= 1\n",
    "\n",
    "        elif ask_dob == 1999 or ask_dob == 2011:\n",
    "            print(\"Your zodiac sign is the rabbit!\")\n",
    "            print(\"Rabbits are quiet, elegant, kind, and responsible. Your lucky numbers are 3, 4, and 6.\")\n",
    "            x+= 1\n",
    "\n",
    "        elif ask_dob == 2000 or ask_dob == 2012:\n",
    "            print(\"Your zodiac sign is the dragon!\")\n",
    "            print(\"Dragons are confident, intelligent, and enthusiastic. Your lucky numbers are 1, 6, and 7.\")\n",
    "            x+= 1\n",
    "\n",
    "        elif ask_dob == 2001 or ask_dob == 2013:\n",
    "            print(\"Your zodiac sign is the snake!\")\n",
    "            print(\"Snakes are enigmatic, intelligent, and wise. Your lucky numbers are 2, 8, and 9.\")\n",
    "            x+= 1\n",
    "\n",
    "        else:\n",
    "            print(\"Sorry, that is not a valid year. Please select a year between 1990 and 2015.\")\n",
    "def main():\n",
    "    zodiac()\n",
    "    \n",
    "main()"
   ]
  },
  {
   "cell_type": "code",
   "execution_count": null,
   "metadata": {},
   "outputs": [],
   "source": []
  }
 ],
 "metadata": {
  "kernelspec": {
   "display_name": "Python 3",
   "language": "python",
   "name": "python3"
  },
  "language_info": {
   "codemirror_mode": {
    "name": "ipython",
    "version": 3
   },
   "file_extension": ".py",
   "mimetype": "text/x-python",
   "name": "python",
   "nbconvert_exporter": "python",
   "pygments_lexer": "ipython3",
   "version": "3.8.3"
  }
 },
 "nbformat": 4,
 "nbformat_minor": 4
}
